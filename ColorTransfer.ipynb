{
 "cells": [
  {
   "cell_type": "markdown",
   "metadata": {},
   "source": [
    "### Creating a dataset of Recolored Images and Original Images for training the Model"
   ]
  },
  {
   "cell_type": "code",
   "execution_count": 1,
   "metadata": {},
   "outputs": [],
   "source": [
    "import numpy as np\n",
    "import cv2"
   ]
  },
  {
   "cell_type": "markdown",
   "metadata": {},
   "source": [
    " > **Color Transfer Algorithm**\n",
    "- Recoloring is done by transerring the color properties of one image to other\n",
    "- Input a **Source** and **Target** image. The color space of **Source** image is transferred to the color space of **Target** image.\n"
   ]
  },
  {
   "cell_type": "code",
   "execution_count": 2,
   "metadata": {},
   "outputs": [],
   "source": [
    "def color_transfer(source, target):\n",
    "    # convert color space from BGR to L*a*b color space\n",
    "    ## L* for the lightness from black to white, a* from green to red, and b* from blue to yellow.\n",
    "    # note - OpenCV expects a 32bit float rather than 64bit\n",
    "    source = cv2.cvtColor(source, cv2.COLOR_BGR2LAB).astype(\"float32\")\n",
    "    target = cv2.cvtColor(target, cv2.COLOR_BGR2LAB).astype(\"float32\")\n",
    "    \n",
    "    # compute color stats for both images\n",
    "    (lMeanSrc, lStdSrc, aMeanSrc, aStdSrc, bMeanSrc, bStdSrc) = image_stats(source)\n",
    "    (lMeanTar, lStdTar, aMeanTar, aStdTar, bMeanTar, bStdTar) = image_stats(target)\n",
    "    \n",
    "    # split the color space\n",
    "    (l, a, b) = cv2.split(target)\n",
    "    \n",
    "    # substarct the means from target image\n",
    "    l -= lMeanTar\n",
    "    a -= aMeanTar\n",
    "    b -= bMeanTar\n",
    "    \n",
    "    # scale by the standard deviation\n",
    "    l = (lStdTar/lStdSrc)*l\n",
    "    a = (aStdTar/aStdSrc)*a\n",
    "    b = (bStdTar/bStdSrc)*b\n",
    "    \n",
    "    # add the source mean\n",
    "    l += lMeanSrc\n",
    "    a += aMeanSrc\n",
    "    b += bMeanSrc\n",
    "    \n",
    "    # clipping the pixels between 0 and 255(0 denotes black and 255 denotes white)\n",
    "    l = np.clip(l, 0, 255)\n",
    "    a = np.clip(a, 0, 255)\n",
    "    b = np.clip(b, 0, 255)\n",
    "    \n",
    "    # merge the channels\n",
    "    transfer = cv2.merge([l, a, b])\n",
    "    \n",
    "    # converting back to BGR\n",
    "    transfer = cv2.cvtColor(transfer.astype(\"uint8\"), cv2.COLOR_LAB2BGR)\n",
    "    \n",
    "    return transfer"
   ]
  },
  {
   "cell_type": "code",
   "execution_count": 3,
   "metadata": {},
   "outputs": [],
   "source": [
    "def image_stats(image):\n",
    "    # compute mean and standard deviation of each channel\n",
    "    (l, a, b) = cv2.split(image)\n",
    "    (lMean, lStd) = (l.mean(), l.std())\n",
    "    (aMean, aStd) = (a.mean(), a.std())\n",
    "    (bMean, bStd) = (b.mean(), b.std())\n",
    "    \n",
    "    return (lMean, lStd, aMean, aStd, bMean, bStd)"
   ]
  },
  {
   "cell_type": "code",
   "execution_count": 4,
   "metadata": {},
   "outputs": [],
   "source": [
    "def show_image(title, image, width=720):\n",
    "    r = width/float(image.shape[1])\n",
    "    dim = (width, int(image.shape[0]*r))\n",
    "    resized = cv2.resize(image, dim, interpolation=cv2.INTER_AREA)\n",
    "    \n",
    "    cv2.imshow(title, resized)"
   ]
  },
  {
   "cell_type": "markdown",
   "metadata": {},
   "source": [
    "> - Viewing a sample image to demonstrate the result of recoloring"
   ]
  },
  {
   "cell_type": "code",
   "execution_count": 6,
   "metadata": {},
   "outputs": [
    {
     "data": {
      "text/plain": [
       "-1"
      ]
     },
     "execution_count": 6,
     "metadata": {},
     "output_type": "execute_result"
    }
   ],
   "source": [
    "source = cv2.imread(\"dataset/source/source (1).jpg\")\n",
    "target = cv2.imread(\"dataset/target/target (1).jpg\")\n",
    "\n",
    "\n",
    "# transfer of color\n",
    "transfer = color_transfer(source, target)\n",
    "\n",
    "# display of image\n",
    "show_image(\"Source\", source)\n",
    "show_image(\"Target\", target)\n",
    "show_image(\"Transfer\", transfer)\n",
    "cv2.waitKey(0)"
   ]
  },
  {
   "cell_type": "markdown",
   "metadata": {},
   "source": [
    "> - Applying Color transfer to some of the images(including both indoor and outdoor images) taken from VOC PASCAL 2012 dataset"
   ]
  },
  {
   "cell_type": "code",
   "execution_count": 5,
   "metadata": {},
   "outputs": [
    {
     "name": "stdout",
     "output_type": "stream",
     "text": [
      "50\n",
      "50\n"
     ]
    },
    {
     "name": "stderr",
     "output_type": "stream",
     "text": [
      "C:\\ProgramData\\Anaconda3\\lib\\site-packages\\ipykernel_launcher.py:22: RuntimeWarning: divide by zero encountered in float_scalars\n",
      "C:\\ProgramData\\Anaconda3\\lib\\site-packages\\ipykernel_launcher.py:23: RuntimeWarning: divide by zero encountered in float_scalars\n"
     ]
    }
   ],
   "source": [
    "from os import listdir\n",
    "from os.path import isfile, join\n",
    "import numpy\n",
    "import cv2\n",
    "import os\n",
    " \n",
    "mypath1='dataset/source/'\n",
    "mypath2='dataset/target/'\n",
    "\n",
    "onlyfiles1 = [ f for f in listdir(mypath1) if isfile(join(mypath1,f)) ]\n",
    "onlyfiles2 = [ f for f in listdir(mypath2) if isfile(join(mypath2,f)) ]\n",
    "\n",
    "print(len(onlyfiles1))\n",
    "print(len(onlyfiles2))\n",
    "images1 = numpy.empty(len(onlyfiles1), dtype=object)\n",
    "images2 = numpy.empty(len(onlyfiles2), dtype=object)\n",
    "for n in range(0, len(onlyfiles1)):\n",
    "    images1[n] = cv2.imread( join(mypath1,onlyfiles1[n]) )\n",
    "    images1[n] = cv2.cvtColor(images1[n], cv2.COLOR_BGR2RGB)\n",
    "    images1[n]=cv2.resize(images1[n],(500,500))\n",
    "    \n",
    "    images2[n] = cv2.imread( join(mypath2,onlyfiles2[n]) )\n",
    "    images2[n] = cv2.cvtColor(images2[n], cv2.COLOR_BGR2RGB)\n",
    "    images2[n]=cv2.resize(images2[n],(500,500))\n",
    "    # transfer of color\n",
    "    transfer = color_transfer(images1[n], images2[n])\n",
    "    #write images in a folder\n",
    "    path = 'dataset/recolorimg'\n",
    "    path1='dataset/originalimg'\n",
    "    cv2.imwrite(os.path.join(path , 'img.{}.jpg'.format(n)),transfer)##for labeling the recolor images images\n",
    "    cv2.imwrite(os.path.join(path1 , 'img.{}.jpg'.format(n)),images2[n])#for labeling the original images\n",
    "    \n",
    "\n",
    "    # display of image\n",
    "    #show_image(\"Source\", images1[n])\n",
    "    #show_image(\"Target\",images2[n] )\n",
    "    #show_image(\"Transfer\", transfer)\n",
    "    cv2.waitKey(0)    \n"
   ]
  },
  {
   "cell_type": "markdown",
   "metadata": {},
   "source": [
    "> **Creating the training dataset** \n",
    "- By applying the above recoloring algorithm we create a dataset of images containing both recolored and original images"
   ]
  },
  {
   "cell_type": "code",
   "execution_count": 7,
   "metadata": {},
   "outputs": [
    {
     "name": "stdout",
     "output_type": "stream",
     "text": [
      "50\n",
      "50\n"
     ]
    },
    {
     "name": "stderr",
     "output_type": "stream",
     "text": [
      "C:\\ProgramData\\Anaconda3\\lib\\site-packages\\ipykernel_launcher.py:22: RuntimeWarning: divide by zero encountered in float_scalars\n",
      "C:\\ProgramData\\Anaconda3\\lib\\site-packages\\ipykernel_launcher.py:23: RuntimeWarning: divide by zero encountered in float_scalars\n"
     ]
    }
   ],
   "source": [
    "from os import listdir\n",
    "from os.path import isfile, join\n",
    "import numpy\n",
    "import cv2\n",
    "import os\n",
    " \n",
    "mypath1='dataset/source/'\n",
    "mypath2='dataset/target/'\n",
    "\n",
    "onlyfiles1 = [ f for f in listdir(mypath1) if isfile(join(mypath1,f)) ]\n",
    "onlyfiles2 = [ f for f in listdir(mypath2) if isfile(join(mypath2,f)) ]\n",
    "\n",
    "print(len(onlyfiles1))\n",
    "print(len(onlyfiles2))\n",
    "images1 = numpy.empty(len(onlyfiles1), dtype=object)\n",
    "images2 = numpy.empty(len(onlyfiles2), dtype=object)\n",
    "for n in range(0, len(onlyfiles1)):\n",
    "    images1[n] = cv2.imread( join(mypath1,onlyfiles1[n]) )\n",
    "    images1[n] = cv2.cvtColor(images1[n], cv2.COLOR_BGR2RGB)\n",
    "    images1[n]=cv2.resize(images1[n],(500,500))\n",
    "    \n",
    "    images2[n] = cv2.imread( join(mypath2,onlyfiles2[n]) )\n",
    "    images2[n] = cv2.cvtColor(images2[n], cv2.COLOR_BGR2RGB)\n",
    "    images2[n]=cv2.resize(images2[n],(500,500))\n",
    "    # transfer of color\n",
    "    transfer = color_transfer(images1[n], images2[n])\n",
    "    #write images in a folder\n",
    "    path2='dataset/trainingset'\n",
    "    cv2.imwrite(os.path.join(path2 , 'img.{}.jpg'.format(n)),transfer)##for labeling the recolor images images\n",
    "    cv2.imwrite(os.path.join(path2 , 'pic.{}.jpg'.format(n)),images2[n])#for labeling the original images\n",
    "    \n",
    "    #path = 'dataset/transfer'\n",
    "    #path1='dataset/original'\n",
    "    #cv2.imwrite(os.path.join(path , 'recolor.{}.jpg'.format(n)),transfer)##for labeling the\n",
    "    #cv2.imwrite(os.path.join(path1 , 'original_color.{}.jpg'.format(n)),images2[n])#for la\n",
    "\n",
    "    # display of image\n",
    "    #show_image(\"Source\", images1[n])\n",
    "    #show_image(\"Target\",images2[n] )\n",
    "    #show_image(\"Transfer\", transfer)\n",
    "    #cv2.waitKey(0)    \n"
   ]
  }
 ],
 "metadata": {
  "kernelspec": {
   "display_name": "Python 3",
   "language": "python",
   "name": "python3"
  },
  "language_info": {
   "codemirror_mode": {
    "name": "ipython",
    "version": 3
   },
   "file_extension": ".py",
   "mimetype": "text/x-python",
   "name": "python",
   "nbconvert_exporter": "python",
   "pygments_lexer": "ipython3",
   "version": "3.7.1"
  }
 },
 "nbformat": 4,
 "nbformat_minor": 2
}
